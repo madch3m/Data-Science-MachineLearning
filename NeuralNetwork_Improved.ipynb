{
  "nbformat": 4,
  "nbformat_minor": 0,
  "metadata": {
    "colab": {
      "name": "NeuralNetwork_Improved.ipynb",
      "provenance": []
    },
    "kernelspec": {
      "name": "python3",
      "display_name": "Python 3"
    },
    "language_info": {
      "name": "python"
    }
  },
  "cells": [
    {
      "cell_type": "code",
      "execution_count": null,
      "metadata": {
        "id": "R0bIEJy0HcLL"
      },
      "outputs": [],
      "source": [
        "\n",
        "#imported keras to build a shallow neural network to identify mnist digits\n",
        "import keras\n",
        "from keras.utils.np_utils import to_categorical\n",
        "from keras.datasets import mnist\n",
        "from keras.models import Sequential\n",
        "from keras.layers import Dense\n",
        "from tensorflow.keras.optimizers import SGD\n",
        "\n",
        "\n",
        "from matplotlib import pyplot as plt\n",
        "import numpy as np"
      ]
    },
    {
      "cell_type": "code",
      "source": [
        "#loaded training and validation data sets to corresponding numpy arrays\n",
        "(X_train, y_train),(X_valid, y_valid) = mnist.load_data()\n",
        "model = keras.Sequential()\n",
        "X_train=X_train.astype('float32')\n",
        "\n",
        "#flattened the two dimensional arrays to one dimensional\n",
        "X_train= X_train.reshape(60000,784)\n",
        "X_valid =X_valid.astype('float32')\n",
        "\n",
        "X_valid= X_valid.reshape(10000,784)\n",
        "\n",
        "print(X_train.dtype)\n",
        "\n",
        "print(X_valid.dtype)\n",
        "\n",
        "\n",
        "\n",
        "\n",
        "\n",
        "\n",
        "\n",
        "\n"
      ],
      "metadata": {
        "colab": {
          "base_uri": "https://localhost:8080/"
        },
        "id": "83NrEh6xIiTd",
        "outputId": "c60c71e4-c266-471b-a62b-cf75a094ef5a"
      },
      "execution_count": null,
      "outputs": [
        {
          "output_type": "stream",
          "name": "stdout",
          "text": [
            "float32\n",
            "float32\n"
          ]
        }
      ]
    },
    {
      "cell_type": "code",
      "source": [
        "#Changed each value in the arrays to 1 or 0 to identify white space contrast to dark values.\n",
        "X_train /= np.float32(255)\n",
        "X_valid /= np.float32(255)"
      ],
      "metadata": {
        "id": "h8F9hLskgNis"
      },
      "execution_count": null,
      "outputs": []
    },
    {
      "cell_type": "code",
      "source": [
        "#created classes given that this is a multiclass problem and used the categorical library to train and validate\n",
        "n_classes = 10\n",
        "y_train = to_categorical(y_train, n_classes)\n",
        "y_valid = to_categorical(y_valid, n_classes)\n",
        "y_valid"
      ],
      "metadata": {
        "colab": {
          "base_uri": "https://localhost:8080/"
        },
        "id": "Q0KrWX3jQcu3",
        "outputId": "8121be73-1030-4a6d-92fa-e0eb47cf9bca"
      },
      "execution_count": null,
      "outputs": [
        {
          "output_type": "execute_result",
          "data": {
            "text/plain": [
              "array([[0., 0., 0., ..., 1., 0., 0.],\n",
              "       [0., 0., 1., ..., 0., 0., 0.],\n",
              "       [0., 1., 0., ..., 0., 0., 0.],\n",
              "       ...,\n",
              "       [0., 0., 0., ..., 0., 0., 0.],\n",
              "       [0., 0., 0., ..., 0., 0., 0.],\n",
              "       [0., 0., 0., ..., 0., 0., 0.]], dtype=float32)"
            ]
          },
          "metadata": {},
          "execution_count": 19
        }
      ]
    },
    {
      "cell_type": "code",
      "source": [
        "model = Sequential()\n",
        "model.add(Dense(64,activation='relu', input_shape=(784,)))\n",
        "model.add(Dense(64, activation='relu'))\n",
        "model.add(Dense(10,activation='softmax'))\n",
        "model.summary()\n"
      ],
      "metadata": {
        "colab": {
          "base_uri": "https://localhost:8080/"
        },
        "id": "kxtqDTVLb7JV",
        "outputId": "6a3a3cc5-c180-4382-874b-68e6fa0d1738"
      },
      "execution_count": null,
      "outputs": [
        {
          "output_type": "stream",
          "name": "stdout",
          "text": [
            "Model: \"sequential_5\"\n",
            "_________________________________________________________________\n",
            " Layer (type)                Output Shape              Param #   \n",
            "=================================================================\n",
            " dense_7 (Dense)             (None, 64)                50240     \n",
            "                                                                 \n",
            " dense_8 (Dense)             (None, 64)                4160      \n",
            "                                                                 \n",
            " dense_9 (Dense)             (None, 10)                650       \n",
            "                                                                 \n",
            "=================================================================\n",
            "Total params: 55,050\n",
            "Trainable params: 55,050\n",
            "Non-trainable params: 0\n",
            "_________________________________________________________________\n"
          ]
        }
      ]
    },
    {
      "cell_type": "code",
      "source": [
        "model.compile(loss='categorical_crossentropy',optimizer=SGD(lr=0.1), metrics=['accuracy'])"
      ],
      "metadata": {
        "colab": {
          "base_uri": "https://localhost:8080/"
        },
        "id": "vDxa0q6Kj47R",
        "outputId": "8f78c595-947a-4999-885a-d87dde0a1eaa"
      },
      "execution_count": null,
      "outputs": [
        {
          "output_type": "stream",
          "name": "stderr",
          "text": [
            "/usr/local/lib/python3.7/dist-packages/keras/optimizer_v2/gradient_descent.py:102: UserWarning: The `lr` argument is deprecated, use `learning_rate` instead.\n",
            "  super(SGD, self).__init__(name, **kwargs)\n"
          ]
        }
      ]
    },
    {
      "cell_type": "code",
      "source": [
        "model.fit(X_train,y_train, batch_size=128, epochs=20, verbose=1, validation_data=(X_valid, y_valid))"
      ],
      "metadata": {
        "colab": {
          "base_uri": "https://localhost:8080/"
        },
        "id": "ivzPsyxqSxK9",
        "outputId": "dce8724c-3e65-40f0-a6ec-ad6b55adb40e"
      },
      "execution_count": null,
      "outputs": [
        {
          "output_type": "stream",
          "name": "stdout",
          "text": [
            "Epoch 1/20\n",
            "469/469 [==============================] - 3s 5ms/step - loss: 0.4701 - accuracy: 0.8633 - val_loss: 0.2543 - val_accuracy: 0.9247\n",
            "Epoch 2/20\n",
            "469/469 [==============================] - 2s 4ms/step - loss: 0.2266 - accuracy: 0.9343 - val_loss: 0.1835 - val_accuracy: 0.9459\n",
            "Epoch 3/20\n",
            "469/469 [==============================] - 2s 4ms/step - loss: 0.1754 - accuracy: 0.9481 - val_loss: 0.1507 - val_accuracy: 0.9542\n",
            "Epoch 4/20\n",
            "469/469 [==============================] - 2s 5ms/step - loss: 0.1431 - accuracy: 0.9580 - val_loss: 0.1302 - val_accuracy: 0.9595\n",
            "Epoch 5/20\n",
            "469/469 [==============================] - 2s 4ms/step - loss: 0.1211 - accuracy: 0.9651 - val_loss: 0.1384 - val_accuracy: 0.9581\n",
            "Epoch 6/20\n",
            "469/469 [==============================] - 2s 4ms/step - loss: 0.1058 - accuracy: 0.9690 - val_loss: 0.1082 - val_accuracy: 0.9669\n",
            "Epoch 7/20\n",
            "469/469 [==============================] - 2s 4ms/step - loss: 0.0926 - accuracy: 0.9727 - val_loss: 0.0977 - val_accuracy: 0.9694\n",
            "Epoch 8/20\n",
            "469/469 [==============================] - 2s 4ms/step - loss: 0.0828 - accuracy: 0.9764 - val_loss: 0.0955 - val_accuracy: 0.9706\n",
            "Epoch 9/20\n",
            "469/469 [==============================] - 2s 4ms/step - loss: 0.0751 - accuracy: 0.9784 - val_loss: 0.0891 - val_accuracy: 0.9716\n",
            "Epoch 10/20\n",
            "469/469 [==============================] - 2s 4ms/step - loss: 0.0682 - accuracy: 0.9801 - val_loss: 0.0851 - val_accuracy: 0.9731\n",
            "Epoch 11/20\n",
            "469/469 [==============================] - 2s 4ms/step - loss: 0.0633 - accuracy: 0.9813 - val_loss: 0.0843 - val_accuracy: 0.9751\n",
            "Epoch 12/20\n",
            "469/469 [==============================] - 2s 4ms/step - loss: 0.0572 - accuracy: 0.9836 - val_loss: 0.0979 - val_accuracy: 0.9686\n",
            "Epoch 13/20\n",
            "469/469 [==============================] - 2s 4ms/step - loss: 0.0530 - accuracy: 0.9848 - val_loss: 0.0851 - val_accuracy: 0.9738\n",
            "Epoch 14/20\n",
            "469/469 [==============================] - 2s 5ms/step - loss: 0.0491 - accuracy: 0.9857 - val_loss: 0.0783 - val_accuracy: 0.9754\n",
            "Epoch 15/20\n",
            "469/469 [==============================] - 2s 4ms/step - loss: 0.0453 - accuracy: 0.9872 - val_loss: 0.0784 - val_accuracy: 0.9767\n",
            "Epoch 16/20\n",
            "469/469 [==============================] - 2s 4ms/step - loss: 0.0415 - accuracy: 0.9880 - val_loss: 0.0846 - val_accuracy: 0.9751\n",
            "Epoch 17/20\n",
            "469/469 [==============================] - 2s 4ms/step - loss: 0.0393 - accuracy: 0.9892 - val_loss: 0.0804 - val_accuracy: 0.9763\n",
            "Epoch 18/20\n",
            "469/469 [==============================] - 2s 4ms/step - loss: 0.0359 - accuracy: 0.9900 - val_loss: 0.0746 - val_accuracy: 0.9772\n",
            "Epoch 19/20\n",
            "469/469 [==============================] - 2s 4ms/step - loss: 0.0332 - accuracy: 0.9912 - val_loss: 0.0809 - val_accuracy: 0.9761\n",
            "Epoch 20/20\n",
            "469/469 [==============================] - 2s 4ms/step - loss: 0.0307 - accuracy: 0.9917 - val_loss: 0.0779 - val_accuracy: 0.9781\n"
          ]
        },
        {
          "output_type": "execute_result",
          "data": {
            "text/plain": [
              "<keras.callbacks.History at 0x7fc374057950>"
            ]
          },
          "metadata": {},
          "execution_count": 22
        }
      ]
    },
    {
      "cell_type": "code",
      "source": [
        "import numpy as np\n",
        "import matplotlib.pyplot as plt\n",
        "from keras import Sequent"
      ],
      "metadata": {
        "id": "4-K9SfkigUuL"
      },
      "execution_count": null,
      "outputs": []
    }
  ]
}