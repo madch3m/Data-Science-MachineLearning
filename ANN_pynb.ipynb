{
  "nbformat": 4,
  "nbformat_minor": 0,
  "metadata": {
    "colab": {
      "name": "ANN.pynb",
      "provenance": []
    },
    "kernelspec": {
      "name": "python3",
      "display_name": "Python 3"
    },
    "language_info": {
      "name": "python"
    }
  },
  "cells": [
    {
      "cell_type": "code",
      "execution_count": null,
      "metadata": {
        "id": "lx4P5dSEvq-S"
      },
      "outputs": [],
      "source": [
        "import keras\n",
        "from keras.datasets import boston_housing\n",
        "from keras.models import Sequential\n",
        "from keras.layers import Dense\n",
        "from keras.layers import Dropout\n",
        "from keras.utils.np_utils import to_categorical\n",
        "from tensorflow.keras.layers import BatchNormalization\n",
        "from tensorflow.keras.optimizers import Adam\n",
        "import numpy as np\n",
        "from keras.callbacks import TensorBoard"
      ]
    },
    {
      "cell_type": "code",
      "source": [
        "(X_train,y_train),(X_valid,y_valid) = boston_housing.load_data()\n",
        "\n",
        "X_train.shape\n",
        "X_valid.shape"
      ],
      "metadata": {
        "colab": {
          "base_uri": "https://localhost:8080/"
        },
        "id": "j2j-nQY5yg1h",
        "outputId": "755011ca-e1f2-4d8e-c938-9e8a3542877a"
      },
      "execution_count": null,
      "outputs": [
        {
          "output_type": "execute_result",
          "data": {
            "text/plain": [
              "(102, 13)"
            ]
          },
          "metadata": {},
          "execution_count": 55
        }
      ]
    },
    {
      "cell_type": "code",
      "source": [
        "model = Sequential()\n",
        "\n",
        "#input layer of deep neural network\n",
        "model.add(Dense(32,input_dim=13,activation='relu'))\n",
        "model.add(BatchNormalization())\n",
        "#first hidden layer using the relu activation function for non-linear problem set\n",
        "model.add(Dense(16,activation='relu'))\n",
        "model.add(BatchNormalization())\n",
        "model.add(Dropout(0.2))\n",
        "model.add(Dense(1,activation='linear'))\n"
      ],
      "metadata": {
        "id": "80WsPpuWxR_p"
      },
      "execution_count": null,
      "outputs": []
    },
    {
      "cell_type": "code",
      "source": [
        "model.compile(loss='mean_squared_error', optimizer='adam')"
      ],
      "metadata": {
        "id": "RkvlisZcz6uZ"
      },
      "execution_count": null,
      "outputs": []
    },
    {
      "cell_type": "code",
      "source": [
        "model.summary()"
      ],
      "metadata": {
        "colab": {
          "base_uri": "https://localhost:8080/"
        },
        "id": "inRMyQoI0KLL",
        "outputId": "278c6068-b811-499c-8410-47797fab5a44"
      },
      "execution_count": null,
      "outputs": [
        {
          "output_type": "stream",
          "name": "stdout",
          "text": [
            "Model: \"sequential_6\"\n",
            "_________________________________________________________________\n",
            " Layer (type)                Output Shape              Param #   \n",
            "=================================================================\n",
            " dense_21 (Dense)            (None, 32)                448       \n",
            "                                                                 \n",
            " batch_normalization_15 (Bat  (None, 32)               128       \n",
            " chNormalization)                                                \n",
            "                                                                 \n",
            " dense_22 (Dense)            (None, 16)                528       \n",
            "                                                                 \n",
            " batch_normalization_16 (Bat  (None, 16)               64        \n",
            " chNormalization)                                                \n",
            "                                                                 \n",
            " dropout_5 (Dropout)         (None, 16)                0         \n",
            "                                                                 \n",
            " dense_23 (Dense)            (None, 1)                 17        \n",
            "                                                                 \n",
            "=================================================================\n",
            "Total params: 1,185\n",
            "Trainable params: 1,089\n",
            "Non-trainable params: 96\n",
            "_________________________________________________________________\n"
          ]
        }
      ]
    },
    {
      "cell_type": "code",
      "source": [
        "tensorboard = TensorBoard('logs/deep-net')\n",
        "model.fit(X_train,y_train,batch_size=128, epochs=20,verbose=1,validation_data=(X_valid,y_valid),callbacks=[tensorboard])"
      ],
      "metadata": {
        "colab": {
          "base_uri": "https://localhost:8080/"
        },
        "id": "MewYlr9K0e08",
        "outputId": "2e2f7896-b563-4ee9-f75f-a351cc622b8b"
      },
      "execution_count": null,
      "outputs": [
        {
          "output_type": "stream",
          "name": "stdout",
          "text": [
            "Epoch 1/20\n",
            "4/4 [==============================] - 0s 23ms/step - loss: 24.5509 - val_loss: 40.3103\n",
            "Epoch 2/20\n",
            "4/4 [==============================] - 0s 11ms/step - loss: 27.3428 - val_loss: 39.7725\n",
            "Epoch 3/20\n",
            "4/4 [==============================] - 0s 11ms/step - loss: 26.4175 - val_loss: 38.9610\n",
            "Epoch 4/20\n",
            "4/4 [==============================] - 0s 10ms/step - loss: 23.8605 - val_loss: 38.7632\n",
            "Epoch 5/20\n",
            "4/4 [==============================] - 0s 13ms/step - loss: 26.3334 - val_loss: 38.1563\n",
            "Epoch 6/20\n",
            "4/4 [==============================] - 0s 10ms/step - loss: 27.1717 - val_loss: 37.8200\n",
            "Epoch 7/20\n",
            "4/4 [==============================] - 0s 16ms/step - loss: 27.8557 - val_loss: 37.8496\n",
            "Epoch 8/20\n",
            "4/4 [==============================] - 0s 10ms/step - loss: 27.4492 - val_loss: 38.2284\n",
            "Epoch 9/20\n",
            "4/4 [==============================] - 0s 13ms/step - loss: 23.7858 - val_loss: 38.5222\n",
            "Epoch 10/20\n",
            "4/4 [==============================] - 0s 10ms/step - loss: 25.6661 - val_loss: 39.1086\n",
            "Epoch 11/20\n",
            "4/4 [==============================] - 0s 10ms/step - loss: 24.0020 - val_loss: 39.0523\n",
            "Epoch 12/20\n",
            "4/4 [==============================] - 0s 10ms/step - loss: 22.0458 - val_loss: 38.2295\n",
            "Epoch 13/20\n",
            "4/4 [==============================] - 0s 11ms/step - loss: 24.4587 - val_loss: 37.8158\n",
            "Epoch 14/20\n",
            "4/4 [==============================] - 0s 10ms/step - loss: 20.7320 - val_loss: 37.4699\n",
            "Epoch 15/20\n",
            "4/4 [==============================] - 0s 10ms/step - loss: 26.9734 - val_loss: 37.4351\n",
            "Epoch 16/20\n",
            "4/4 [==============================] - 0s 10ms/step - loss: 23.0181 - val_loss: 38.2074\n",
            "Epoch 17/20\n",
            "4/4 [==============================] - 0s 12ms/step - loss: 22.3593 - val_loss: 38.6189\n",
            "Epoch 18/20\n",
            "4/4 [==============================] - 0s 11ms/step - loss: 25.2025 - val_loss: 38.6411\n",
            "Epoch 19/20\n",
            "4/4 [==============================] - 0s 12ms/step - loss: 24.5587 - val_loss: 38.1590\n",
            "Epoch 20/20\n",
            "4/4 [==============================] - 0s 9ms/step - loss: 24.0655 - val_loss: 37.1140\n"
          ]
        },
        {
          "output_type": "execute_result",
          "data": {
            "text/plain": [
              "<keras.callbacks.History at 0x7f40d5117210>"
            ]
          },
          "metadata": {},
          "execution_count": 66
        }
      ]
    },
    {
      "cell_type": "code",
      "source": [
        "y_valid[42]"
      ],
      "metadata": {
        "colab": {
          "base_uri": "https://localhost:8080/"
        },
        "id": "5LjImGuI780a",
        "outputId": "1cc94c86-c784-473d-e4bb-3dae04aa26a9"
      },
      "execution_count": null,
      "outputs": [
        {
          "output_type": "execute_result",
          "data": {
            "text/plain": [
              "14.1"
            ]
          },
          "metadata": {},
          "execution_count": 62
        }
      ]
    },
    {
      "cell_type": "code",
      "source": [
        "model.predict(np.reshape(X_valid[42],[1,13]))"
      ],
      "metadata": {
        "colab": {
          "base_uri": "https://localhost:8080/"
        },
        "id": "8akXJMB46RnJ",
        "outputId": "ee707cec-297d-4764-e3ba-739b2563335f"
      },
      "execution_count": null,
      "outputs": [
        {
          "output_type": "execute_result",
          "data": {
            "text/plain": [
              "array([[16.881676]], dtype=float32)"
            ]
          },
          "metadata": {},
          "execution_count": 63
        }
      ]
    },
    {
      "cell_type": "code",
      "source": [
        "tensorboard= TensorBoard('logs/deep-net')\n",
        "model.fit(X_train)"
      ],
      "metadata": {
        "id": "f_xIqc2I8i9U"
      },
      "execution_count": null,
      "outputs": []
    }
  ]
}